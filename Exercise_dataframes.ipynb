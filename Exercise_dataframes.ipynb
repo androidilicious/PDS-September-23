{
 "cells": [
  {
   "cell_type": "markdown",
   "metadata": {},
   "source": [
    "# Estimating Labor Market Returns to Education\n",
    "\n",
    "In this exercise, we're going to use data from the [American Communities Survey (ACS)](https://usa.ipums.org/usa/acs.shtml) to study the relationship betwen educational attainment and wages. The ACS is a survey conducted by the United States Census Bureau (though it is not \"The Census,\" which is a counting of every person in the United States that takes place every 10 years) to measure numerous features of the US population. The data we will be working with includes about 100 variables from the 2017 ACS survey, and is a 10% sample of the ACS (which itself is a 1% sample of the US population, so we're working with about a 0.1% sample of the United States). \n",
    "\n",
    "This data comes from [IPUMS](https://usa.ipums.org/usa/), which provides a very useful tool for getting subsets of major survey datasets, not just from the US, but [from government statistical agencies the world over](https://international.ipums.org/international-action/sample_details).\n",
    "\n",
    "This is *real* data, meaning that you are being provided the data as it is provided by IPUMS. Documentation for all variables used in this data can be found [here](https://usa.ipums.org/usa-action/variables/group) (you can either search by variable name to figure out the meaning of a variable in this data, or search for something you want to see if a variable with the right name is in this data). \n",
    "\n",
    "Within this data is information on both the educational background and current earnings of a representative sample of Americans. We will now use this data to estimate the labor-market returns to graduating high school and college, and to learn something about the meaning of an educational degree. "
   ]
  },
  {
   "cell_type": "markdown",
   "metadata": {},
   "source": [
    "## Gradescope Autograding\n",
    "\n",
    "Please follow [all standard guidance](https://www.practicaldatascience.org/ids720_specific/autograder_guidelines.html) for submitting this assignment to the Gradescope autograder, including storing your solutions in a dictionary called `results` and ensuring your notebook runs from the start to completion without any errors.\n",
    "\n",
    "For this assignment, please name your file `exercise_dataframes.ipynb` before uploading.\n",
    "\n",
    "You can check that you have answers for all questions in your `results` dictionary with this code:\n",
    "\n",
    "```python\n",
    "assert set(results.keys()) == {\n",
    "    \"ex2_num_obs\",\n",
    "    \"ex3_num_vars\",\n",
    "    \"ex8_updated_num_obs\",\n",
    "    \"ex9_updated_num_obs\",\n",
    "    \"ex11_grade12_income\",\n",
    "    \"ex12_college_income\",\n",
    "    \"ex12_college_income_pct\",\n",
    "    \"ex14_high_school_dropout\",\n",
    "    \"ex15_grade_9\",\n",
    "    \"ex15_grade_10\",\n",
    "    \"ex15_grade_11\",\n",
    "    \"ex15_grade_12\",\n",
    "    \"ex15_4_years_of_college\",\n",
    "    \"ex15_graduate\",\n",
    "}\n",
    "```\n",
    "\n",
    "### Submission Limits\n",
    "\n",
    "Please remember that you are **only allowed three submissions to the autograder.** Your last submission (if you submit 3 or fewer times), or your third submission (if you submit more than 3 times) will determine your grade Submissions that error out will **not** count against this total.\n"
   ]
  },
  {
   "cell_type": "markdown",
   "metadata": {},
   "source": [
    "## Exercises"
   ]
  },
  {
   "cell_type": "markdown",
   "metadata": {},
   "source": [
    "### Exercise 1\n",
    "\n",
    "Data for these [exercises can be found here](https://github.com/nickeubank/MIDS_Data/tree/master/US_AmericanCommunitySurvey). \n",
    "\n",
    "Import `US_ACS_2017_10pct_sample.dta` into a pandas DataFrame (read it directly from a URL to help the autograder, please). \n",
    "\n",
    "This can be done with the command `pd.read_stata`, which will read in files created in the program Stata (and which uses the file suffix `.dta`). This is a format commonly used by social scientists."
   ]
  },
  {
   "cell_type": "code",
   "execution_count": 46,
   "metadata": {},
   "outputs": [
    {
     "name": "stdout",
     "output_type": "stream",
     "text": [
      "   year  datanum   serial      cbserial          numprec subsamp  hhwt  \\\n",
      "0  2017        1   177686  2.017001e+12                9      64    55   \n",
      "1  2017        1  1200045  2.017001e+12                6      79    25   \n",
      "2  2017        1    70831  2.017000e+12  1 person record      36    57   \n",
      "3  2017        1   557128  2.017001e+12                2      10    98   \n",
      "4  2017        1   614890  2.017001e+12                4      96    54   \n",
      "\n",
      "                                   hhtype       cluster    adjust  ...  \\\n",
      "0  female householder, no husband present  2.017002e+12  1.011189  ...   \n",
      "1       male householder, no wife present  2.017012e+12  1.011189  ...   \n",
      "2          male householder, living alone  2.017001e+12  1.011189  ...   \n",
      "3         married-couple family household  2.017006e+12  1.011189  ...   \n",
      "4         married-couple family household  2.017006e+12  1.011189  ...   \n",
      "\n",
      "   migcounty1                 migmet131 vetdisab                   diffrem  \\\n",
      "0           0  not in identifiable area      n/a                       n/a   \n",
      "1           0  not in identifiable area      n/a   no cognitive difficulty   \n",
      "2           0  not in identifiable area      n/a  has cognitive difficulty   \n",
      "3           0  not in identifiable area      n/a   no cognitive difficulty   \n",
      "4           0  not in identifiable area      n/a                       n/a   \n",
      "\n",
      "                   diffphys                           diffmob diffcare  \\\n",
      "0                       n/a                               n/a      n/a   \n",
      "1  no ambulatory difficulty  no independent living difficulty       no   \n",
      "2  no ambulatory difficulty  no independent living difficulty       no   \n",
      "3  no ambulatory difficulty  no independent living difficulty       no   \n",
      "4                       n/a                               n/a      n/a   \n",
      "\n",
      "                          diffsens  diffeye  diffhear  \n",
      "0  no vision or hearing difficulty       no        no  \n",
      "1  no vision or hearing difficulty       no        no  \n",
      "2  no vision or hearing difficulty       no        no  \n",
      "3  no vision or hearing difficulty       no        no  \n",
      "4  no vision or hearing difficulty       no        no  \n",
      "\n",
      "[5 rows x 104 columns]\n"
     ]
    }
   ],
   "source": [
    "import pandas as pd\n",
    "\n",
    "url = 'https://github.com/nickeubank/MIDS_Data/raw/refs/heads/master/US_AmericanCommunitySurvey/US_ACS_2017_10pct_sample.dta'\n",
    "\n",
    "acs = pd.read_stata(url)\n",
    "\n",
    "print(acs.head())"
   ]
  },
  {
   "cell_type": "markdown",
   "metadata": {},
   "source": [
    "## Getting to Know Your Data\n",
    "\n",
    "When you get a new dataset like this, it's good to start by trying to get a feel for its contents and organization. Toy datasets you sometimes get in classes are often very small, and easy to look at, but this is a pretty large dataset, so you can't just open it up and get a good sense of it. Here are some ways to get to know your data. "
   ]
  },
  {
   "cell_type": "markdown",
   "metadata": {},
   "source": [
    "### Exercise 2\n",
    "\n",
    "How many observations are in your data? Store the answer in your `results` dictionary with the key `\"ex2_num_obs\"`."
   ]
  },
  {
   "cell_type": "code",
   "execution_count": 47,
   "metadata": {},
   "outputs": [
    {
     "name": "stdout",
     "output_type": "stream",
     "text": [
      "Number of observations: 319004\n"
     ]
    },
    {
     "data": {
      "text/plain": [
       "{'ex2_num_obs': 319004}"
      ]
     },
     "execution_count": 47,
     "metadata": {},
     "output_type": "execute_result"
    }
   ],
   "source": [
    "# No. of Observations\n",
    "\n",
    "num_obs = acs.shape[0]\n",
    "print(\"Number of observations:\", num_obs)\n",
    "\n",
    "results = {}\n",
    "results[\"ex2_num_obs\"] = num_obs\n",
    "\n",
    "results"
   ]
  },
  {
   "cell_type": "markdown",
   "metadata": {},
   "source": [
    "### Exercise 3\n",
    "\n",
    "How many variables are in your data? Store the answer in your `results` dictionary with the key `\"ex3_num_vars\"`."
   ]
  },
  {
   "cell_type": "code",
   "execution_count": 48,
   "metadata": {},
   "outputs": [
    {
     "data": {
      "text/plain": [
       "{'ex2_num_obs': 319004, 'ex3_num_vars': 104}"
      ]
     },
     "execution_count": 48,
     "metadata": {},
     "output_type": "execute_result"
    }
   ],
   "source": [
    "# How many variables\n",
    "\n",
    "ex3_num_vars = len(acs.columns)\n",
    "\n",
    "results[\"ex3_num_vars\"] = ex3_num_vars\n",
    "results"
   ]
  },
  {
   "cell_type": "markdown",
   "metadata": {},
   "source": [
    "### Exercise 4\n",
    "\n",
    " Let's see what variables are in this dataset. First, try to see them all using the command:\n",
    "\n",
    "\n",
    "```python\n",
    "acs.columns\n",
    "```"
   ]
  },
  {
   "cell_type": "code",
   "execution_count": 49,
   "metadata": {},
   "outputs": [
    {
     "data": {
      "text/plain": [
       "Index(['year', 'datanum', 'serial', 'cbserial', 'numprec', 'subsamp', 'hhwt',\n",
       "       'hhtype', 'cluster', 'adjust',\n",
       "       ...\n",
       "       'migcounty1', 'migmet131', 'vetdisab', 'diffrem', 'diffphys', 'diffmob',\n",
       "       'diffcare', 'diffsens', 'diffeye', 'diffhear'],\n",
       "      dtype='object', length=104)"
      ]
     },
     "execution_count": 49,
     "metadata": {},
     "output_type": "execute_result"
    }
   ],
   "source": [
    "acs.columns"
   ]
  },
  {
   "cell_type": "markdown",
   "metadata": {},
   "source": [
    "As you will see, `python` doesn't like to print out all the different variables when there are this many in a dataset. \n",
    "\n",
    "To get everything printed out, we can loop over all the columns and print them one at a time with the command:\n",
    "\n",
    "```\n",
    "for c in acs.columns: print(c)\n",
    "```\n",
    "\n",
    "It's definitely a bit of a hack, but honestly a pretty useful one!"
   ]
  },
  {
   "cell_type": "code",
   "execution_count": 50,
   "metadata": {},
   "outputs": [
    {
     "name": "stdout",
     "output_type": "stream",
     "text": [
      "year\n",
      "datanum\n",
      "serial\n",
      "cbserial\n",
      "numprec\n",
      "subsamp\n",
      "hhwt\n",
      "hhtype\n",
      "cluster\n",
      "adjust\n",
      "cpi99\n",
      "region\n",
      "stateicp\n",
      "statefip\n",
      "countyicp\n",
      "countyfip\n",
      "metro\n",
      "city\n",
      "citypop\n",
      "strata\n",
      "gq\n",
      "farm\n",
      "ownershp\n",
      "ownershpd\n",
      "mortgage\n",
      "mortgag2\n",
      "mortamt1\n",
      "mortamt2\n",
      "respmode\n",
      "pernum\n",
      "cbpernum\n",
      "perwt\n",
      "slwt\n",
      "famunit\n",
      "sex\n",
      "age\n",
      "marst\n",
      "birthyr\n",
      "race\n",
      "raced\n",
      "hispan\n",
      "hispand\n",
      "bpl\n",
      "bpld\n",
      "citizen\n",
      "yrnatur\n",
      "yrimmig\n",
      "language\n",
      "languaged\n",
      "speakeng\n",
      "hcovany\n",
      "hcovpriv\n",
      "hinsemp\n",
      "hinspur\n",
      "hinstri\n",
      "hcovpub\n",
      "hinscaid\n",
      "hinscare\n",
      "hinsva\n",
      "hinsihs\n",
      "school\n",
      "educ\n",
      "educd\n",
      "gradeatt\n",
      "gradeattd\n",
      "schltype\n",
      "degfield\n",
      "degfieldd\n",
      "degfield2\n",
      "degfield2d\n",
      "empstat\n",
      "empstatd\n",
      "labforce\n",
      "occ\n",
      "ind\n",
      "classwkr\n",
      "classwkrd\n",
      "looking\n",
      "availble\n",
      "inctot\n",
      "ftotinc\n",
      "incwage\n",
      "incbus00\n",
      "incss\n",
      "incwelfr\n",
      "incinvst\n",
      "incretir\n",
      "incsupp\n",
      "incother\n",
      "incearn\n",
      "poverty\n",
      "migrate1\n",
      "migrate1d\n",
      "migplac1\n",
      "migcounty1\n",
      "migmet131\n",
      "vetdisab\n",
      "diffrem\n",
      "diffphys\n",
      "diffmob\n",
      "diffcare\n",
      "diffsens\n",
      "diffeye\n",
      "diffhear\n"
     ]
    }
   ],
   "source": [
    "for c in acs.columns:\n",
    "    print(c)"
   ]
  },
  {
   "cell_type": "markdown",
   "metadata": {},
   "source": [
    "### Exercise 5\n",
    "\n",
    "That's a *lot* of variables, and definitely more than we need. In general, life is easier when working with these kinds of huge datasets if you can narrow down the number of variables a little. In this exercise, we will be looking at the relationship between education and wages, we need variables for: \n",
    "\n",
    "- Age\n",
    "- Income\n",
    "- Education\n",
    "- Employment status (is the person actually working)\n",
    "\n",
    "These quantities of interest correspond to the following variables in our data: `age`, `inctot`, `educ`, and `empstat`. \n",
    "\n",
    "Subset your data to just those variables. "
   ]
  },
  {
   "cell_type": "code",
   "execution_count": 51,
   "metadata": {},
   "outputs": [
    {
     "name": "stdout",
     "output_type": "stream",
     "text": [
      "  age   inctot                       educ             empstat\n",
      "0   4  9999999  nursery school to grade 4                 n/a\n",
      "1  17     6000                   grade 11            employed\n",
      "2  63     6150         4 years of college            employed\n",
      "3  66    14000                   grade 12  not in labor force\n",
      "4   1  9999999        n/a or no schooling                 n/a\n"
     ]
    }
   ],
   "source": [
    "subset = acs[['age', 'inctot', 'educ', 'empstat']]\n",
    "print(subset.head())"
   ]
  },
  {
   "cell_type": "markdown",
   "metadata": {},
   "source": [
    "### Exercise 6 \n",
    "\n",
    "Now that we have a more manageable number of variables, it's often very useful to look at a handful of rows of your data. The easiest way to do this is probably the `.head()` method (which will show you the first five rows), or the `tail()` method, which will show you the last five rows. \n",
    "\n",
    "But to get a good sense of your data, it's often better to use the `sample()` command, which returns a random set of rows. As the first and last rows are sometimes not representative, a random set of rows can be very helpful. Try looking at a random sample of 20 rows (note: you don't have to run `.sample()` ten times to get ten rows. Look at the `.sample` help file if you're stuck. "
   ]
  },
  {
   "cell_type": "code",
   "execution_count": 52,
   "metadata": {},
   "outputs": [
    {
     "name": "stdout",
     "output_type": "stream",
     "text": [
      "                         age   inctot                       educ  \\\n",
      "318984                    52     6600        5+ years of college   \n",
      "318985                    64    16000          1 year of college   \n",
      "318986                     2  9999999        n/a or no schooling   \n",
      "318987                    36    50000                   grade 12   \n",
      "318988                    70    82700         2 years of college   \n",
      "318989  less than 1 year old  9999999        n/a or no schooling   \n",
      "318990                    63   505400        5+ years of college   \n",
      "318991                    10  9999999  nursery school to grade 4   \n",
      "318992                    56        0        grade 5, 6, 7, or 8   \n",
      "318993                    22    21700         2 years of college   \n",
      "318994                    91    16400  nursery school to grade 4   \n",
      "318995                    67   125000                   grade 12   \n",
      "318996                    15        0                    grade 9   \n",
      "318997                     6  9999999  nursery school to grade 4   \n",
      "318998                    31        0        5+ years of college   \n",
      "318999                    33    22130         4 years of college   \n",
      "319000                     4  9999999  nursery school to grade 4   \n",
      "319001                    20     5000                   grade 12   \n",
      "319002                    47   240000        5+ years of college   \n",
      "319003                    33    48000        5+ years of college   \n",
      "\n",
      "                   empstat  \n",
      "318984            employed  \n",
      "318985            employed  \n",
      "318986                 n/a  \n",
      "318987            employed  \n",
      "318988            employed  \n",
      "318989                 n/a  \n",
      "318990            employed  \n",
      "318991                 n/a  \n",
      "318992  not in labor force  \n",
      "318993            employed  \n",
      "318994  not in labor force  \n",
      "318995            employed  \n",
      "318996                 n/a  \n",
      "318997                 n/a  \n",
      "318998  not in labor force  \n",
      "318999            employed  \n",
      "319000                 n/a  \n",
      "319001            employed  \n",
      "319002            employed  \n",
      "319003            employed  \n",
      "____________________________\n",
      "       age   inctot                       educ             empstat\n",
      "14616   39   140000        5+ years of college            employed\n",
      "5999    54    60000        5+ years of college            employed\n",
      "30086   60   230000        5+ years of college            employed\n",
      "189632  11  9999999  nursery school to grade 4                 n/a\n",
      "82621   71    82400         4 years of college  not in labor force\n",
      "35809   29    58000         4 years of college            employed\n",
      "272494  32    17000                   grade 12            employed\n",
      "300256  27     3600                   grade 12  not in labor force\n",
      "67508   16        0                    grade 9  not in labor force\n",
      "211576  28    26400          1 year of college            employed\n",
      "133099  66        0          1 year of college  not in labor force\n",
      "204489  35    28000                   grade 12            employed\n",
      "111939  54    50000         4 years of college            employed\n",
      "135206  68    42600          1 year of college  not in labor force\n",
      "124314  64    58000          1 year of college  not in labor force\n",
      "86265    1  9999999        n/a or no schooling                 n/a\n",
      "43259   67    28800                   grade 12  not in labor force\n",
      "89369   64    15900         4 years of college  not in labor force\n",
      "157072  32    20000        5+ years of college  not in labor force\n",
      "105874  72    48480                   grade 12  not in labor force\n"
     ]
    }
   ],
   "source": [
    "print(subset.tail(20))\n",
    "\n",
    "print('____________________________')\n",
    "\n",
    "print(subset.sample(20))\n",
    "\n"
   ]
  },
  {
   "cell_type": "markdown",
   "metadata": {},
   "source": [
    "### Exercise 7\n",
    "\n",
    "Do you see any immediate problems? What issues do you see? (Please do answer in markdown)"
   ]
  },
  {
   "cell_type": "markdown",
   "metadata": {},
   "source": [
    "The use of the tail method may give us data points that may be not representative of the overall dataset. So it is always helpful to use the sample method to get a good sense of how the actually data is distributed."
   ]
  },
  {
   "cell_type": "markdown",
   "metadata": {},
   "source": [
    "### Exercise 8 \n",
    "\n",
    "One problem is that many people seem to have incomes of $9,999,999. Moreover, people with those incomes seem to be very young children. \n",
    "\n",
    "What you are seeing is one method (a relatively old one) for representing missing data. In this case, the value 9999999 is being used as a **sentinel value** — a way to denote missing data that was used back in the day when there was no way to add a special data type for mossing data. In this case, it identifies observations where the person is too young to work, so their income value is missing. \n",
    "\n",
    "So let's begin by dropping anyone who has `inctot` equal to 9999999.\n",
    "\n",
    "After dropping, how many observations do you have? Save your answer in your `results` dictionary under the key `\"ex8_updated_num_obs\"`"
   ]
  },
  {
   "cell_type": "code",
   "execution_count": 53,
   "metadata": {},
   "outputs": [
    {
     "name": "stdout",
     "output_type": "stream",
     "text": [
      "Number of observation: 265103\n"
     ]
    }
   ],
   "source": [
    "drop = subset[subset[\"inctot\"] != 9999999]\n",
    "\n",
    "\n",
    "\n",
    "results['ex8_updated_num_obs'] = drop.shape[0]\n",
    "\n",
    "print(f'Number of observation: {drop.shape[0]}')"
   ]
  },
  {
   "cell_type": "markdown",
   "metadata": {},
   "source": [
    "### Exercise 9\n",
    "\n",
    "OK, the other potential problem is that our data includes lots of people who are unemployed and people who are not in the labor force (this means they not only don't have a job, but also aren't looking for a job). For this analysis, we want to focus on the wages of people who are currently employed. So subset the dataset for the people for whom `empstat` is equal to \"employed\". \n",
    "\n",
    "Note that our decision to only look at people who are employed impacts how we should interpret the relationship we estimate between education and income. Because we are only looking at employed people, we will be estimating the relationship between education and income *for people who are employed*. That means that if education affects the *likelihood* someone is employed, we won't capture that in this analysis.\n",
    "\n",
    "(You might also want to run `.sample()` after this just to make sure you were successful in your subsetting).\n",
    "\n",
    "After this subsetting, how many observations do you have? Save your answer in your `results` dictionary under the key `\"ex9_updated_num_obs\"`"
   ]
  },
  {
   "cell_type": "code",
   "execution_count": 54,
   "metadata": {},
   "outputs": [
    {
     "name": "stdout",
     "output_type": "stream",
     "text": [
      "       age  inctot                 educ   empstat\n",
      "306139  41   45000   4 years of college  employed\n",
      "92361   45   72000  5+ years of college  employed\n",
      "163052  64   28000    1 year of college  employed\n",
      "308606  23   14000             grade 12  employed\n",
      "220993  28   86020  5+ years of college  employed\n",
      "253715  27   39400             grade 12  employed\n",
      "60304   53   15000   4 years of college  employed\n",
      "263764  45   47000    1 year of college  employed\n",
      "304979  67   20700  5+ years of college  employed\n",
      "292773  20   20400    1 year of college  employed\n",
      "Number of observations: 148758\n"
     ]
    },
    {
     "data": {
      "text/plain": [
       "{'ex2_num_obs': 319004,\n",
       " 'ex3_num_vars': 104,\n",
       " 'ex8_updated_num_obs': 265103,\n",
       " 'ex9_updated_num_obs': 148758}"
      ]
     },
     "execution_count": 54,
     "metadata": {},
     "output_type": "execute_result"
    }
   ],
   "source": [
    "employed = drop[drop['empstat'] == \"employed\"]\n",
    "print(employed.sample(10))\n",
    "results['ex9_updated_num_obs'] = employed.shape[0]\n",
    "print(f'Number of observations: {employed.shape[0]}')\n",
    "results"
   ]
  },
  {
   "cell_type": "markdown",
   "metadata": {},
   "source": [
    "### Exercise 10\n",
    "\n",
    "Now let's turn to education. The `educ` variable seems to have a lot of discrete values. Let's see what values exist, and their distribution, using the `value_counts()` method. This is an *extremely* useful tool you'll use a lot! Try the following code (modified for the name of your dataset, of course):\n",
    "\n",
    "```python\n",
    "acs[\"educ\"].value_counts()\n",
    "```"
   ]
  },
  {
   "cell_type": "code",
   "execution_count": 55,
   "metadata": {},
   "outputs": [
    {
     "data": {
      "application/vnd.microsoft.datawrangler.viewer.v0+json": {
       "columns": [
        {
         "name": "educ",
         "rawType": "category",
         "type": "unknown"
        },
        {
         "name": "count",
         "rawType": "int64",
         "type": "integer"
        }
       ],
       "ref": "72f178f2-6664-4e3b-ac00-b26bdfd5e03d",
       "rows": [
        [
         "grade 12",
         "47815"
        ],
        [
         "4 years of college",
         "33174"
        ],
        [
         "1 year of college",
         "22899"
        ],
        [
         "5+ years of college",
         "20995"
        ],
        [
         "2 years of college",
         "14077"
        ],
        [
         "grade 11",
         "2747"
        ],
        [
         "grade 5, 6, 7, or 8",
         "2092"
        ],
        [
         "grade 10",
         "1910"
        ],
        [
         "n/a or no schooling",
         "1291"
        ],
        [
         "grade 9",
         "1290"
        ],
        [
         "nursery school to grade 4",
         "468"
        ]
       ],
       "shape": {
        "columns": 1,
        "rows": 11
       }
      },
      "text/plain": [
       "educ\n",
       "grade 12                     47815\n",
       "4 years of college           33174\n",
       "1 year of college            22899\n",
       "5+ years of college          20995\n",
       "2 years of college           14077\n",
       "grade 11                      2747\n",
       "grade 5, 6, 7, or 8           2092\n",
       "grade 10                      1910\n",
       "n/a or no schooling           1291\n",
       "grade 9                       1290\n",
       "nursery school to grade 4      468\n",
       "Name: count, dtype: int64"
      ]
     },
     "execution_count": 55,
     "metadata": {},
     "output_type": "execute_result"
    }
   ],
   "source": [
    "employed['educ'].value_counts()\n"
   ]
  },
  {
   "cell_type": "markdown",
   "metadata": {},
   "source": [
    "### Exercise 11\n",
    "\n",
    "There are a lot of values in here, so let's just check a couple. What is the average value of `inctot` for people whose highest grade level is \"grade 12\" (in the US, that is someone who has graduated high school)?\n",
    "\n",
    "Save your answer in your `results` dictionary under the key `\"ex11_grade12_income\"`."
   ]
  },
  {
   "cell_type": "code",
   "execution_count": 58,
   "metadata": {},
   "outputs": [
    {
     "name": "stdout",
     "output_type": "stream",
     "text": [
      "Average Income of High School Graduate: $57854.72\n"
     ]
    }
   ],
   "source": [
    "mean_inctot = employed['inctot'].mean()\n",
    "results['ex11_grade12_income'] = mean_inctot\n",
    "print(f'Average Income of High School Graduate: ${mean_inctot:.2f}')"
   ]
  },
  {
   "cell_type": "markdown",
   "metadata": {},
   "source": [
    "### Exercise 12\n",
    "\n",
    "What is the average income of someone who has completed an undergraduate degree but not done any postgraduate education (\"4 years of college\")? \n",
    "\n",
    "Save your answer in your `results` dictionary under the key `\"ex12_college_income\"`.\n",
    "\n",
    "In percentage terms, how much does an employed college graduate earn as compared to someone who is only a high school graduate? Use the reference category that gives an answer above 100.\n",
    "\n",
    "Store your answer in `\"ex12_college_income_pct\"`. Put your answer in percentage terms (so 100 implies they earn the same amount).\n",
    "\n",
    "*Make sure to interpret your result in words when you print it out!*"
   ]
  },
  {
   "cell_type": "code",
   "execution_count": 59,
   "metadata": {},
   "outputs": [
    {
     "name": "stdout",
     "output_type": "stream",
     "text": [
      "75485.05293301983\n",
      "The average income of someone who has completed an undergraduate degree : 75485.05\n"
     ]
    }
   ],
   "source": [
    "ave_inc_post_grad = employed[employed['educ'] == '4 years of college']['inctot'].mean()\n",
    "\n",
    "print(ave_inc_post_grad)\n",
    "\n",
    "results['ex12_college_income_pct'] = ave_inc_post_grad\n",
    "\n",
    "print(f\"The average income of someone who has completed an undergraduate degree : {ave_inc_post_grad:.2f}\")"
   ]
  },
  {
   "cell_type": "markdown",
   "metadata": {},
   "source": [
    "\n",
    "### Exercise 13\n",
    "What does that suggest is the value of getting a college degree after graduating high school?"
   ]
  },
  {
   "cell_type": "markdown",
   "metadata": {},
   "source": [
    "The average of income of someone who has completed an undergraduate degree $75,485.05 is more than someone wiht just a high school diploma with $57,854.72"
   ]
  },
  {
   "cell_type": "markdown",
   "metadata": {},
   "source": [
    "### Exercise 14\n",
    "\n",
    "What is the average income for someone who has not finished high school? What does that suggest is the value of a high school diploma? (Treat `n/a or no schooling` as having no formal schooling, not as missing).\n",
    "\n",
    "**Hint:** You may find the [.isin()](https://pandas.pydata.org/pandas-docs/stable/reference/api/pandas.DataFrame.isin.html) method to be really helpful here.\n",
    "\n",
    "Save your answer in your `results` dictionary under the key `\"ex14_high_school_dropout\"`."
   ]
  },
  {
   "cell_type": "code",
   "execution_count": 69,
   "metadata": {},
   "outputs": [
    {
     "name": "stdout",
     "output_type": "stream",
     "text": [
      "The average income of someone who has not completed high school : $ 26157.93\n"
     ]
    }
   ],
   "source": [
    "ex14_high_school_dropout_mask = employed['educ'].isin(['n/a or no schooling', 'grade 5, 6, 7, or 8', 'grade 9', 'grade 10', 'grade 11'])\n",
    "\n",
    "ex14_high_school_dropout = employed[ex14_high_school_dropout_mask]['inctot'].mean()\n",
    "\n",
    "results['ex12_college_income_pct'] = ex14_high_school_dropout\n",
    "\n",
    "print(f\"The average income of someone who has not completed high school : $ {ex14_high_school_dropout:.2f}\")\n"
   ]
  },
  {
   "cell_type": "markdown",
   "metadata": {},
   "source": [
    "As can be seen from the above result, someone without a high school diploma is going to receive $26,157.927 which is significanly less than someone who has completed it."
   ]
  },
  {
   "cell_type": "markdown",
   "metadata": {},
   "source": [
    "### Exercise 15 \n",
    "\n",
    "Complete the following table (storing values under the provided keys where listed):\n",
    "\n",
    "- Average income for someone who only completed 9th grade (`ex15_grade_9`): _________\n",
    "- Average income for someone who only completed 10th grade (`ex15_grade_10`): _________\n",
    "- Average income for someone who only completed 11th grade (`ex15_grade_11`): _________\n",
    "- Average income for someone who finished high school (12th grade) but never started college (`ex15_grade_12`): _________\n",
    "- Average income for someone who completed 4 year of college (in the US, this corresponds to getting an undergraduate degree), but has no post-graduate education (no more than 4 years, `ex15_4_years_of_college`): _________\n",
    "- Average income for someone who has some graduate education (more than 4 years, `ex15_graduate`): _________"
   ]
  },
  {
   "cell_type": "code",
   "execution_count": 72,
   "metadata": {},
   "outputs": [
    {
     "data": {
      "text/plain": [
       "{'ex2_num_obs': 319004,\n",
       " 'ex3_num_vars': 104,\n",
       " 'ex8_updated_num_obs': 265103,\n",
       " 'ex9_updated_num_obs': 148758,\n",
       " 'ex11_grade12_income': np.float64(57854.723914007984),\n",
       " 'ex12_college_income_pct': np.float64(26157.92765273312),\n",
       " 'ex15_grade_9': np.float64(27171.907751937986),\n",
       " 'ex15_grade_10': np.float64(23018.795811518325),\n",
       " 'ex15_grade_11': np.float64(21541.68693119767),\n",
       " 'ex15_grade_12': np.float64(38957.76068179442),\n",
       " 'ex15_4_years_of_college': np.float64(75485.05293301983),\n",
       " 'ex15_graduate': np.float64(110013.2213384139)}"
      ]
     },
     "execution_count": 72,
     "metadata": {},
     "output_type": "execute_result"
    }
   ],
   "source": [
    "ex15_grade_9 = employed[employed['educ']=='grade 9']['inctot'].mean()\n",
    "\n",
    "ex15_grade_10 = employed[employed['educ']=='grade 10']['inctot'].mean()\n",
    "\n",
    "ex15_grade_11 = employed[employed['educ']=='grade 11']['inctot'].mean()\n",
    "\n",
    "ex15_grade_12 = employed[employed['educ']=='grade 12']['inctot'].mean()\n",
    "\n",
    "ex15_4_years_of_college = employed[employed['educ']=='4 years of college']['inctot'].mean()\n",
    "\n",
    "ex15_graduate = employed[employed['educ']=='5+ years of college']['inctot'].mean()\n",
    "\n",
    "results['ex15_grade_9'] = ex15_grade_9\n",
    "results['ex15_grade_10'] = ex15_grade_10\n",
    "results['ex15_grade_11'] = ex15_grade_11\n",
    "results['ex15_grade_12'] = ex15_grade_12\n",
    "results['ex15_4_years_of_college'] = ex15_4_years_of_college\n",
    "results['ex15_graduate'] = ex15_graduate\n",
    "\n",
    "results\n"
   ]
  },
  {
   "cell_type": "markdown",
   "metadata": {},
   "source": [
    "### Exercise 16 \n",
    "\n",
    "Why do you think there is no benefit from moving from grade 9 to grade 10, or grade 10 to grade 11, but there is a huge benefit to moving from grade 11 to graduating high school (grade 12)?\n",
    "\n",
    "(Think carefully before reading ahead!)"
   ]
  },
  {
   "cell_type": "markdown",
   "metadata": {},
   "source": [
    "The reason that there is no benefit from moving from grade 9 to grade 10, or grade 10 to grade 11 might be because companies usually have discrete requirements for a certain milestone that a person has completed in someone's educaton journey and more often when one doesn't have the college degree, its the highschool diploma that are required and hence these people are more likely to get a job and make more than those that haven't managed to complete the diploma. As for why there seems to be a rather downward trend as grade progresses from 9 - 11, it could signal upward mobility in career for those that drop out and venture out to make a living on their own skills."
   ]
  },
  {
   "cell_type": "markdown",
   "metadata": {},
   "source": [
    "## Take-aways\n",
    "\n",
    "Congratulations! You just discovered \"the sheepskin effect!\": people with degrees tend to earn substantially more than people who have *almost* as much education, but don't have an actual degree. \n",
    "\n",
    "In economics, this is viewed as evidence that the reason employers pay people with high school degrees more than those without degree is *not* that they think those who graduated high school have learned specific, useful skills. If that were the case, we would expect employee earnings to rise with every year of high school, since in each year of high school we learn more. \n",
    "\n",
    "Instead, this suggests employees pay high school graduates more because they think *the kind of people* who can finish high school are the *kind of people* who are likely to succeed at their jobs. Finishing high school, in other words, isn't about accumulating specific knowledge; it's about showing that you *are the kind of person* who can rise to the challenge of finishing high school, also suggesting you are also the kind of person who can succeed as an employee. \n",
    "\n",
    "(Obviously, this does not tell us whether that is an *accurate* inference, just that that seems to be how employeers think.) \n",
    "\n",
    "In other words, in the eyes of employers, a high school degree is a *signal* about the kind of person you are, not certification that you've learned a specific set of skills (an idea that earned [Michael Spence](https://en.wikipedia.org/wiki/Michael_Spence) a Nobel Prize in Economics). "
   ]
  }
 ],
 "metadata": {
  "kernelspec": {
   "display_name": "base",
   "language": "python",
   "name": "python3"
  },
  "language_info": {
   "codemirror_mode": {
    "name": "ipython",
    "version": 3
   },
   "file_extension": ".py",
   "mimetype": "text/x-python",
   "name": "python",
   "nbconvert_exporter": "python",
   "pygments_lexer": "ipython3",
   "version": "3.12.11"
  }
 },
 "nbformat": 4,
 "nbformat_minor": 4
}
